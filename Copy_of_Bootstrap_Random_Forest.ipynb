{
 "cells": [
  {
   "cell_type": "markdown",
   "metadata": {
    "colab_type": "text",
    "id": "AjzGopb_YcKR"
   },
   "source": [
    "# Application of Bootstrap samples in Random Forest"
   ]
  },
  {
   "cell_type": "code",
   "execution_count": null,
   "metadata": {
    "colab": {},
    "colab_type": "code",
    "id": "zZSCtDI6YcKT"
   },
   "outputs": [],
   "source": [
    "import numpy as np\n",
    "from sklearn.datasets import load_boston\n",
    "from sklearn.metrics import mean_squared_error"
   ]
  },
  {
   "cell_type": "code",
   "execution_count": null,
   "metadata": {
    "colab": {},
    "colab_type": "code",
    "id": "wBWRNKCDYcKb"
   },
   "outputs": [],
   "source": [
    "boston = load_boston()\n",
    "x=boston.data #independent variables\n",
    "y=boston.target #target variable"
   ]
  },
  {
   "cell_type": "code",
   "execution_count": null,
   "metadata": {
    "colab": {
     "base_uri": "https://localhost:8080/",
     "height": 34
    },
    "colab_type": "code",
    "id": "DTbK20-mWYHU",
    "outputId": "8420e1bf-0ced-42c2-ee8f-204b3dab0729"
   },
   "outputs": [
    {
     "data": {
      "text/plain": [
       "(506, 13)"
      ]
     },
     "execution_count": 23,
     "metadata": {
      "tags": []
     },
     "output_type": "execute_result"
    }
   ],
   "source": [
    "x.shape"
   ]
  },
  {
   "cell_type": "code",
   "execution_count": null,
   "metadata": {
    "colab": {
     "base_uri": "https://localhost:8080/",
     "height": 34
    },
    "colab_type": "code",
    "id": "VLFOsKnq59D6",
    "outputId": "2c18db38-fb8f-4aa0-fceb-5e7a9d0e92df"
   },
   "outputs": [
    {
     "data": {
      "text/plain": [
       "(506, 1)"
      ]
     },
     "execution_count": 30,
     "metadata": {
      "tags": []
     },
     "output_type": "execute_result"
    }
   ],
   "source": [
    "y=y.reshape(-1,1)\n",
    "y.shape\n"
   ]
  },
  {
   "cell_type": "code",
   "execution_count": null,
   "metadata": {
    "colab": {},
    "colab_type": "code",
    "id": "-iAWUmhPU_Cz"
   },
   "outputs": [],
   "source": [
    "import random\n",
    "columns=[]\n",
    "c=1\n",
    "while(c<31):\n",
    "  k=random.randrange(3,10)\n",
    "  w=random.sample(range(1,11),k)\n",
    "  w.sort()\n",
    "  if(w not in columns):\n",
    "    columns.append(w)\n",
    "    c+=1\n"
   ]
  },
  {
   "cell_type": "code",
   "execution_count": null,
   "metadata": {
    "colab": {},
    "colab_type": "code",
    "id": "t_-cm72NC9bZ"
   },
   "outputs": [],
   "source": [
    "xq= [0.18,20.0,5.00,0.0,0.421,5.60,72.2,7.95,7.0,30.0,19.1,372.13,18.60]\n",
    "xq=np.array(xq).reshape(1,-1)"
   ]
  },
  {
   "cell_type": "markdown",
   "metadata": {
    "colab_type": "text",
    "id": "BVn03V50pElb"
   },
   "source": [
    "# **Task 1**"
   ]
  },
  {
   "cell_type": "code",
   "execution_count": null,
   "metadata": {
    "colab": {},
    "colab_type": "code",
    "id": "CNFvahfzZmoR"
   },
   "outputs": [],
   "source": [
    "from sklearn.tree import DecisionTreeRegressor\n",
    "y_pred_sampled=[]\n",
    "y_pred_oob=[[-1 for i in range(507)]for j in range(31)]\n",
    "r=int(int(x.shape[0])*0.6)\n",
    "k=506-r\n",
    "pred_point=[]\n",
    "for p in range(30):\n",
    "  index=random.sample(range(0,506),r)\n",
    "  t=random.sample(range(0,303),k)\n",
    "  index2=[]\n",
    "  for i in t:\n",
    "    index2.append(index[i])\n",
    "  final_index=np.array(index+index2)\n",
    "  X_tr=x[final_index[:,None], columns[p]]\n",
    "  Y_tr=y[final_index[:,None],0]\n",
    "  Model=DecisionTreeRegressor(criterion='mse')\n",
    "  Model.fit(X_tr,Y_tr)\n",
    "  y_pred=[]\n",
    "  for i in range(506):\n",
    "    l=[i]\n",
    "    l=np.array(l)\n",
    "    a=x[l[:,None],columns[p]]\n",
    "    y_pred.append(float(Model.predict(a)))\n",
    "  y_pred_sampled.append(y_pred)\n",
    "  oob_points=[]\n",
    "  for b in range(506):\n",
    "    if(b not in final_index):\n",
    "      l=[b]\n",
    "      l=np.array(l)\n",
    "      a=x[l[:,None],columns[p]]\n",
    "      y_pred_oob[p][b]=float(Model.predict(a))\n",
    "  l=[0]\n",
    "  l=np.array(l)\n",
    "  q=xq[l[:,None],columns[p]]\n",
    "  pred_point.append(Model.predict(q))\n",
    "  "
   ]
  },
  {
   "cell_type": "markdown",
   "metadata": {
    "colab_type": "text",
    "id": "sKfV581aELwG"
   },
   "source": [
    "# **MSE and OOB_score**"
   ]
  },
  {
   "cell_type": "code",
   "execution_count": null,
   "metadata": {
    "colab": {},
    "colab_type": "code",
    "id": "y9Z1P2urEOle"
   },
   "outputs": [],
   "source": [
    "y_pred1=[]\n",
    "y_oob=[]\n",
    "for i in range(506):\n",
    "  r=0\n",
    "  for j in range(30):\n",
    "    r+=y_pred_sampled[j][i]\n",
    "  r=r/30\n",
    "  y_pred1.append(r)\n",
    "#print(y_pred1)\n",
    "for i in range(506):\n",
    "  s=0\n",
    "  c=0\n",
    "  for j in range(30):\n",
    "    if(y_pred_oob[j][i]!=-1):\n",
    "      c+=1\n",
    "      s+=y_pred_oob[j][i]\n",
    "  s=s/c\n",
    "  y_oob.append(s)\n"
   ]
  },
  {
   "cell_type": "code",
   "execution_count": null,
   "metadata": {
    "colab": {
     "base_uri": "https://localhost:8080/",
     "height": 50
    },
    "colab_type": "code",
    "id": "wJ_CBWT-HqJR",
    "outputId": "e4432e22-478f-490e-9b79-8cdba5a5a61c"
   },
   "outputs": [
    {
     "name": "stdout",
     "output_type": "stream",
     "text": [
      "Mean Square Error=  [2.06253651]\n",
      "OOB Score =  [10.41021135]\n"
     ]
    }
   ],
   "source": [
    "error=0\n",
    "error2=0\n",
    "for i in range(506):\n",
    "  #print(y[i],y_oob[i],y_pred[i])\n",
    "  error+=(y[i]-y_pred1[i])**2\n",
    "  error2+=(y[i]-y_oob[i])**2\n",
    "#print(error2)\n",
    "mse=((error)/506)\n",
    "oob_score=((error2)/506)\n",
    "print(\"Mean Square Error= \",mse)\n",
    "print(\"OOB Score = \",oob_score)"
   ]
  },
  {
   "cell_type": "markdown",
   "metadata": {
    "colab_type": "text",
    "id": "NfNmyVupD_CV"
   },
   "source": [
    "# **Task 2**"
   ]
  },
  {
   "cell_type": "code",
   "execution_count": null,
   "metadata": {
    "colab": {},
    "colab_type": "code",
    "id": "5igO2swrD8iA"
   },
   "outputs": [],
   "source": [
    "Mse=[]\n",
    "OOB_score=[]\n",
    "for i in range(35):\n",
    "  columns=[]\n",
    "  c=1\n",
    "  while(c<31):\n",
    "    o=random.randrange(3,10)\n",
    "    w=random.sample(range(1,11),o)\n",
    "    w.sort()\n",
    "    if(w not in columns):\n",
    "      columns.append(w)\n",
    "      c+=1\n",
    "  y_pred_sampled2=[]\n",
    "  y_pred_oob2=[[-1 for i in range(507)]for j in range(31)]\n",
    "  print(x.shape[0])\n",
    "  r=int(int(x.shape[0])*0.6)\n",
    "  k=506-r\n",
    "  pred_point=[]\n",
    "  for p in range(30):\n",
    "    index=random.sample(range(0,506),r)\n",
    "    t=random.sample(range(0,303),k)\n",
    "    index2=[]\n",
    "    for i in t:\n",
    "      index2.append(index[i])\n",
    "    final_index=np.array(index+index2)\n",
    "    X_tr=x[final_index[:,None], columns[p]]\n",
    "    Y_tr=y[final_index[:,None],0]\n",
    "    Model=DecisionTreeRegressor(criterion='mse',splitter='best')\n",
    "    Model.fit(X_tr,Y_tr)\n",
    "    y_pred=[]\n",
    "    for i in range(506):\n",
    "      l=[i]\n",
    "      l=np.array(l)\n",
    "      a=x[l[:,None],columns[p]]\n",
    "      y_pred.append(float(Model.predict(a)))\n",
    "    y_pred_sampled2.append(y_pred)\n",
    "    oob_points=[]\n",
    "    for b in range(506):\n",
    "      if(b not in final_index):\n",
    "        l=[b]\n",
    "        l=np.array(l)\n",
    "        a=x[l[:,None],columns[p]]\n",
    "        y_pred_oob2[p][b]=float(Model.predict(a))\n",
    "  y_pred2=[]\n",
    "  y_oob2=[]\n",
    "  for u in range(506):\n",
    "    r=0\n",
    "    for v in range(30):\n",
    "      r+=y_pred_sampled2[v][u]\n",
    "    r=r/30\n",
    "    y_pred2.append(r)\n",
    "  for g in range(506):\n",
    "    s2=0\n",
    "    c2=0\n",
    "    for h in range(30):\n",
    "      if(y_pred_oob2[h][g]!=-1):\n",
    "        c2+=1\n",
    "        s2+=y_pred_oob2[h][g]\n",
    "    s2=s2/c2\n",
    "    y_oob2.append(s2)\n",
    "  error=0\n",
    "  error2=0\n",
    "  for d in range(506):\n",
    "    error+=(y[d]-y_pred2[d])**2\n",
    "    error2+=(y[d]-y_oob2[d])**2\n",
    "  #print(error)\n",
    "  #print(error2)\n",
    "  Mse.append((error)/506)\n",
    "  OOB_score.append((error2)/506)"
   ]
  },
  {
   "cell_type": "code",
   "execution_count": null,
   "metadata": {
    "colab": {
     "base_uri": "https://localhost:8080/",
     "height": 34
    },
    "colab_type": "code",
    "id": "_q2jdrVEMRMh",
    "outputId": "54f7a2d4-31f4-4538-f2be-213d2075bc6d"
   },
   "outputs": [
    {
     "name": "stdout",
     "output_type": "stream",
     "text": [
      "35\n"
     ]
    }
   ],
   "source": [
    "Mse=np.array(Mse).reshape(-1,1)\n",
    "OOB_score=np.array(OOB_score).reshape(-1,1)\n",
    "print(Mse.shape[0])"
   ]
  },
  {
   "cell_type": "code",
   "execution_count": null,
   "metadata": {
    "colab": {
     "base_uri": "https://localhost:8080/",
     "height": 252
    },
    "colab_type": "code",
    "id": "Wtouy1bmbpjX",
    "outputId": "163d9ef8-58ab-4f43-d7d0-40cac28741de"
   },
   "outputs": [
    {
     "name": "stdout",
     "output_type": "stream",
     "text": [
      "+----------+-------------+--------------------+----------+-----------+\n",
      "| #samples | Sample Size |    Sample mean     | Left C.I | Right C.I |\n",
      "+----------+-------------+--------------------+----------+-----------+\n",
      "|    1     |      20     | 2.181550392539307  |   2.05   |   2.313   |\n",
      "|    2     |      20     | 2.2570947259877228 |  2.061   |   2.454   |\n",
      "|    3     |      20     | 2.245851105548339  |  2.081   |    2.41   |\n",
      "|    4     |      20     | 2.182338736703636  |  2.037   |   2.327   |\n",
      "|    5     |      20     | 2.188519545371658  |   2.0    |   2.378   |\n",
      "|    6     |      20     | 2.2133939591812655 |  2.038   |   2.389   |\n",
      "|    7     |      20     | 2.258691026604776  |  2.066   |   2.451   |\n",
      "|    8     |      20     | 2.2135576619600963 |  2.035   |   2.392   |\n",
      "|    9     |      20     | 2.3181842680957994 |  2.116   |    2.52   |\n",
      "|    10    |      20     | 2.2333293014691806 |  2.076   |   2.391   |\n",
      "+----------+-------------+--------------------+----------+-----------+\n"
     ]
    }
   ],
   "source": [
    "from prettytable import PrettyTable\n",
    "x = PrettyTable()\n",
    "x = PrettyTable([\"#samples\", \"Sample Size\", \"Sample mean\",\"Left C.I\",\"Right C.I\",])\n",
    "for i in range(10):\n",
    "    sample=Mse[random.sample(range(0, Mse.shape[0]), 20)]\n",
    "    sample_mean = sample.mean()\n",
    "    sample_std =  sample.std()\n",
    "    sample_size = len(sample)\n",
    "    # here we are using sample standard deviation instead of population standard deviation\n",
    "    left_limit  = np.round(sample_mean - 2*(sample_std/np.sqrt(sample_size)), 3)\n",
    "    right_limit = np.round(sample_mean + 2*(sample_std/np.sqrt(sample_size)), 3)\n",
    "    row = []\n",
    "    row.append(i+1)\n",
    "    row.append(sample_size)\n",
    "    row.append(sample_mean)\n",
    "    #row.append(population_std)\n",
    "    row.append(left_limit)\n",
    "    row.append(right_limit)\n",
    "    #row.append(male_population_mean)\n",
    "    #row.append((male_population_mean <= right_limit) and (male_population_mean >= left_limit))\n",
    "    x.add_row(row)\n",
    "print(x)"
   ]
  },
  {
   "cell_type": "code",
   "execution_count": null,
   "metadata": {
    "colab": {
     "base_uri": "https://localhost:8080/",
     "height": 252
    },
    "colab_type": "code",
    "id": "TmoYU2RvjZ7P",
    "outputId": "e5fbd2f8-c36b-4075-86e5-1e870a4f7aeb"
   },
   "outputs": [
    {
     "name": "stdout",
     "output_type": "stream",
     "text": [
      "+----------+-------------+--------------------+----------+-----------+\n",
      "| #samples | Sample Size |    Sample mean     | Left C.I | Right C.I |\n",
      "+----------+-------------+--------------------+----------+-----------+\n",
      "|    1     |      20     | 10.313090326193734 |  9.969   |   10.657  |\n",
      "|    2     |      20     | 10.780079794303914 |  10.41   |   11.15   |\n",
      "|    3     |      20     | 10.361173266434767 |  9.972   |   10.75   |\n",
      "|    4     |      20     | 10.543490286163564 |  10.087  |    11.0   |\n",
      "|    5     |      20     | 10.935392140730816 |  10.514  |   11.357  |\n",
      "|    6     |      20     | 10.652213108545295 |  10.236  |   11.068  |\n",
      "|    7     |      20     | 10.777588878968293 |  10.349  |   11.207  |\n",
      "|    8     |      20     |  10.4763096563957  |  10.119  |   10.833  |\n",
      "|    9     |      20     | 10.854880086157209 |  10.383  |   11.326  |\n",
      "|    10    |      20     | 10.580593915611155 |  10.182  |   10.979  |\n",
      "+----------+-------------+--------------------+----------+-----------+\n"
     ]
    }
   ],
   "source": [
    "from prettytable import PrettyTable\n",
    "x = PrettyTable()\n",
    "x = PrettyTable([\"#samples\", \"Sample Size\", \"Sample mean\",\"Left C.I\",\"Right C.I\",])\n",
    "for i in range(10):\n",
    "    sample=OOB_score[random.sample(range(0, OOB_score.shape[0]), 20)]\n",
    "    sample_mean = sample.mean()\n",
    "    sample_std =  sample.std()\n",
    "    sample_size = len(sample)\n",
    "    # here we are using sample standard deviation instead of population standard deviation\n",
    "    left_limit  = np.round(sample_mean - 2*(sample_std/np.sqrt(sample_size)), 3)\n",
    "    right_limit = np.round(sample_mean + 2*(sample_std/np.sqrt(sample_size)), 3)\n",
    "    row = []\n",
    "    row.append(i+1)\n",
    "    row.append(sample_size)\n",
    "    row.append(sample_mean)\n",
    "    #row.append(population_std)\n",
    "    row.append(left_limit)\n",
    "    row.append(right_limit)\n",
    "    #row.append(male_population_mean)\n",
    "    #row.append((male_population_mean <= right_limit) and (male_population_mean >= left_limit))\n",
    "    x.add_row(row)\n",
    "print(x)"
   ]
  },
  {
   "cell_type": "code",
   "execution_count": null,
   "metadata": {
    "colab": {},
    "colab_type": "code",
    "id": "6BjZNgTfmNsd"
   },
   "outputs": [],
   "source": [
    "m=20\n",
    "k=100\n",
    "mean_Mse=[]\n",
    "mean_OOB=[]\n",
    "for i in range(k):\n",
    "  Mse1=[]\n",
    "  OOB1=[]\n",
    "  for i in range(20):\n",
    "    s=random.randrange(0,30)\n",
    "    Mse1.append(Mse[s])\n",
    "    OOB1.append(OOB_score[s])\n",
    "  mean_Mse.append(sum(Mse1)/20)\n",
    "  mean_OOB.append(sum(OOB1)/20)\n",
    "\n",
    "mean_Mse.sort()\n",
    "mean_OOB.sort()"
   ]
  },
  {
   "cell_type": "markdown",
   "metadata": {
    "colab_type": "text",
    "id": "8efKFDdFow4C"
   },
   "source": [
    "**Confidence Interval**"
   ]
  },
  {
   "cell_type": "code",
   "execution_count": null,
   "metadata": {
    "colab": {
     "base_uri": "https://localhost:8080/",
     "height": 50
    },
    "colab_type": "code",
    "id": "pZhKXM3En6i9",
    "outputId": "67304abd-41f0-47e3-f427-87655fab2502"
   },
   "outputs": [
    {
     "name": "stdout",
     "output_type": "stream",
     "text": [
      "Confidence for mean of MSE\n",
      "2.129192577307857 <= mean <= 2.294373641632575\n"
     ]
    }
   ],
   "source": [
    "print(\"Confidence for mean of MSE\")\n",
    "print(float(mean_Mse[25]),\"<= mean <=\",float(mean_Mse[95]))"
   ]
  },
  {
   "cell_type": "code",
   "execution_count": null,
   "metadata": {
    "colab": {
     "base_uri": "https://localhost:8080/",
     "height": 50
    },
    "colab_type": "code",
    "id": "LJGZgBD3oiJl",
    "outputId": "e15c2954-fd15-4006-a522-c6cdaf72760d"
   },
   "outputs": [
    {
     "name": "stdout",
     "output_type": "stream",
     "text": [
      "Confidence for mean of OOB sCORE\n",
      "10.488755523402382 <= mean <= 10.970426914089026\n"
     ]
    }
   ],
   "source": [
    "print(\"Confidence for mean of OOB sCORE\")\n",
    "print(float(mean_OOB[25]),\"<= mean <=\",float(mean_OOB[95]))"
   ]
  },
  {
   "cell_type": "markdown",
   "metadata": {
    "colab_type": "text",
    "id": "visxXs9ApNzD"
   },
   "source": [
    "# ***House Price for Point xq= [0.18,20.0,5.00,0.0,0.421,5.60,72.2,7.95,7.0,30.0,19.1,372.13,18.60]***"
   ]
  },
  {
   "cell_type": "code",
   "execution_count": null,
   "metadata": {
    "colab": {
     "base_uri": "https://localhost:8080/",
     "height": 50
    },
    "colab_type": "code",
    "id": "yBxD_VVLpMLs",
    "outputId": "9d354a1f-6de7-4abf-c1bc-ef01ae6fb120"
   },
   "outputs": [
    {
     "name": "stdout",
     "output_type": "stream",
     "text": [
      "Price of given Point\n",
      "21.468500000000002\n"
     ]
    }
   ],
   "source": [
    "pred_point=xq\n",
    "print(\"Price of given Point\")\n",
    "print(np.average(pred_point))"
   ]
  },
  {
   "cell_type": "code",
   "execution_count": null,
   "metadata": {
    "colab": {},
    "colab_type": "code",
    "id": "b1h19_B_Crme"
   },
   "outputs": [],
   "source": [
    "xq= [0.18,20.0,5.00,0.0,0.421,5.60,72.2,7.95,7.0,30.0,19.1,372.13,18.60]\n",
    "xq=np.array(xq).reshape(1,-1)"
   ]
  },
  {
   "cell_type": "code",
   "execution_count": null,
   "metadata": {
    "colab": {
     "base_uri": "https://localhost:8080/",
     "height": 34
    },
    "colab_type": "code",
    "id": "oMPXPUJiC0w_",
    "outputId": "e9b054f5-e3a3-4ae8-9504-f0f29e1382e3"
   },
   "outputs": [
    {
     "data": {
      "text/plain": [
       "(1, 13)"
      ]
     },
     "execution_count": 170,
     "metadata": {
      "tags": []
     },
     "output_type": "execute_result"
    }
   ],
   "source": [
    "xq.shape"
   ]
  },
  {
   "cell_type": "code",
   "execution_count": null,
   "metadata": {
    "colab": {},
    "colab_type": "code",
    "id": "luuWxeK-C2V_"
   },
   "outputs": [],
   "source": []
  }
 ],
 "metadata": {
  "colab": {
   "collapsed_sections": [],
   "name": "Copy_of_Bootstrap_Random_Forest_instructions.ipynb",
   "provenance": []
  },
  "kernelspec": {
   "display_name": "Python 3",
   "language": "python",
   "name": "python3"
  },
  "language_info": {
   "codemirror_mode": {
    "name": "ipython",
    "version": 3
   },
   "file_extension": ".py",
   "mimetype": "text/x-python",
   "name": "python",
   "nbconvert_exporter": "python",
   "pygments_lexer": "ipython3",
   "version": "3.7.4"
  }
 },
 "nbformat": 4,
 "nbformat_minor": 1
}
